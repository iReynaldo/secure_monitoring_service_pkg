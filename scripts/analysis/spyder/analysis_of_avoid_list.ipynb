{
 "cells": [
  {
   "cell_type": "code",
   "execution_count": 2,
   "id": "34ee59a5",
   "metadata": {},
   "outputs": [],
   "source": [
    "# Analyze Avoid List"
   ]
  },
  {
   "cell_type": "code",
   "execution_count": 2,
   "id": "fe656a3d",
   "metadata": {},
   "outputs": [],
   "source": [
    "################################\n",
    "# Imports\n",
    "################################\n",
    "\n",
    "import numpy as np\n",
    "import pandas as pd\n",
    "import matplotlib.pyplot as plt\n",
    "import plotly.express as px\n",
    "import plotly.io as pio\n",
    "\n",
    "################################\n",
    "# Load Data\n",
    "################################\n",
    "#%%\n",
    "data_file_path = '../../data/graphs/metadata/V4SubprefixHijackScenario_scenario_none_type_others_policies_none_rov_0_hash_False_probe_verisign_relay_False_attackRelay_1_attacker_250_trials_full_percentages_avoid_list_metadata.csv'\n",
    "data = pd.read_csv(data_file_path, delimiter='\\t')"
   ]
  },
  {
   "cell_type": "code",
   "execution_count": null,
   "id": "39ba7dc1",
   "metadata": {},
   "outputs": [],
   "source": []
  }
 ],
 "metadata": {
  "kernelspec": {
   "display_name": "Python 3 (Spyder)",
   "language": "python3",
   "name": "python3"
  },
  "language_info": {
   "codemirror_mode": {
    "name": "ipython",
    "version": 3
   },
   "file_extension": ".py",
   "mimetype": "text/x-python",
   "name": "python",
   "nbconvert_exporter": "python",
   "pygments_lexer": "ipython3",
   "version": "3.11.4"
  }
 },
 "nbformat": 4,
 "nbformat_minor": 5
}
