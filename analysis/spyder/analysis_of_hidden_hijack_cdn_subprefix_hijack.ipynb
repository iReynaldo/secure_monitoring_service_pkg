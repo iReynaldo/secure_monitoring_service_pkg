{
 "cells": [
  {
   "cell_type": "markdown",
   "id": "55d49de3",
   "metadata": {},
   "source": [
    "# Check if CDN setting hijacks for Subprefix are actually Hidden Hijacks\n",
    "\n",
    "Data collected was from the following setting:\n",
    "\n",
    "```bash\n",
    "export PYTHONHASHSEED=0\n",
    "python __main__.py --percentages 0.01 0.05 0.1 0.2 \\\n",
    "                   --relay_asns cloudflare \\\n",
    "                   --num_trials 5 \\\n",
    "                   --policy v4k5 \\\n",
    "                   --cpus 1 \\\n",
    "                   --python_hash_seed $PYTHONHASHSEED \\\n",
    "                   --rov_adoption none \\\n",
    "                   --num_attackers 5 \\\n",
    "                   --scenario V4SubprefixHijackScenario\n",
    "\n",
    "```\n",
    "\n",
    "Graphs and a complete JSON of the settings can be found in \n",
    "`V4SubprefixHijackScenario_scenario_none_type_none_rov_0_hash_cloudflare_relay_False_attackRelay_5_attacker_5_trials_[0.01,0.05,0.1,0.2]_percentages.zip`\n",
    "\n",
    "## Imports and Load Trial Metadata"
   ]
  },
  {
   "cell_type": "code",
   "execution_count": 2,
   "id": "0087e9b3",
   "metadata": {},
   "outputs": [],
   "source": [
    "#!/usr/bin/env python3\n",
    "# -*- coding: utf-8 -*-\n",
    "\"\"\"\n",
    "Created on Fri Jun 19 17:45:00 2023\n",
    "\n",
    "@author: uconn\n",
    "\"\"\"\n",
    "\n",
    "\n",
    "################################\n",
    "# Imports\n",
    "################################\n",
    "\n",
    "import numpy as np\n",
    "import pandas as pd\n",
    "import matplotlib.pyplot as plt\n",
    "\n",
    "\n",
    "################################\n",
    "# Load Data\n",
    "################################\n",
    "#%%\n",
    "data_file_path = '../../data/as_metadata/subpefix_metadata.csv'\n",
    "data = pd.read_csv(data_file_path, delimiter='\\t')\n"
   ]
  },
  {
   "cell_type": "markdown",
   "id": "4811db0d",
   "metadata": {},
   "source": [
    "Show a sample of the data. EAch row of the data is an entry of the LocalRIB of an AS. The outcomes are determined by the `prefix_for_outcome` as that one resulted in the min-number of successful connections."
   ]
  },
  {
   "cell_type": "code",
   "execution_count": 3,
   "id": "b63d8ab7",
   "metadata": {},
   "outputs": [
    {
     "data": {
      "text/html": [
       "<div>\n",
       "<style scoped>\n",
       "    .dataframe tbody tr th:only-of-type {\n",
       "        vertical-align: middle;\n",
       "    }\n",
       "\n",
       "    .dataframe tbody tr th {\n",
       "        vertical-align: top;\n",
       "    }\n",
       "\n",
       "    .dataframe thead th {\n",
       "        text-align: right;\n",
       "    }\n",
       "</style>\n",
       "<table border=\"1\" class=\"dataframe\">\n",
       "  <thead>\n",
       "    <tr style=\"text-align: right;\">\n",
       "      <th></th>\n",
       "      <th>trial</th>\n",
       "      <th>percentage</th>\n",
       "      <th>propagation_round</th>\n",
       "      <th>asn</th>\n",
       "      <th>adoption_setting</th>\n",
       "      <th>outcome</th>\n",
       "      <th>prefix_for_outcome</th>\n",
       "      <th>local_rib_prefix</th>\n",
       "      <th>as_path</th>\n",
       "      <th>relationship</th>\n",
       "      <th>blackhole</th>\n",
       "      <th>avoid_list</th>\n",
       "    </tr>\n",
       "  </thead>\n",
       "  <tbody>\n",
       "    <tr>\n",
       "      <th>0</th>\n",
       "      <td>0</td>\n",
       "      <td>0.01</td>\n",
       "      <td>0</td>\n",
       "      <td>206536</td>\n",
       "      <td>BGP Simple</td>\n",
       "      <td>Outcomes.ATTACKER_SUCCESS</td>\n",
       "      <td>1.2.3.0/24</td>\n",
       "      <td>1.2.3.0/24</td>\n",
       "      <td>[206536]</td>\n",
       "      <td>Relationships.ORIGIN</td>\n",
       "      <td>False</td>\n",
       "      <td>[20485, 32787, 7195, 8220, 4637, 7713, 29226, ...</td>\n",
       "    </tr>\n",
       "    <tr>\n",
       "      <th>1</th>\n",
       "      <td>0</td>\n",
       "      <td>0.01</td>\n",
       "      <td>0</td>\n",
       "      <td>206536</td>\n",
       "      <td>BGP Simple</td>\n",
       "      <td>Outcomes.ATTACKER_SUCCESS</td>\n",
       "      <td>1.2.3.0/24</td>\n",
       "      <td>7.7.7.0/24</td>\n",
       "      <td>[206536, 8359, 18403, 13335]</td>\n",
       "      <td>Relationships.PROVIDERS</td>\n",
       "      <td>False</td>\n",
       "      <td>[20485, 32787, 7195, 8220, 4637, 7713, 29226, ...</td>\n",
       "    </tr>\n",
       "    <tr>\n",
       "      <th>2</th>\n",
       "      <td>0</td>\n",
       "      <td>0.01</td>\n",
       "      <td>0</td>\n",
       "      <td>206536</td>\n",
       "      <td>BGP Simple</td>\n",
       "      <td>Outcomes.ATTACKER_SUCCESS</td>\n",
       "      <td>1.2.3.0/24</td>\n",
       "      <td>1.2.0.0/16</td>\n",
       "      <td>[206536, 8359, 9498, 133275, 133718]</td>\n",
       "      <td>Relationships.PROVIDERS</td>\n",
       "      <td>False</td>\n",
       "      <td>[20485, 32787, 7195, 8220, 4637, 7713, 29226, ...</td>\n",
       "    </tr>\n",
       "    <tr>\n",
       "      <th>3</th>\n",
       "      <td>0</td>\n",
       "      <td>0.01</td>\n",
       "      <td>0</td>\n",
       "      <td>25408</td>\n",
       "      <td>BGP Simple</td>\n",
       "      <td>Outcomes.ATTACKER_SUCCESS</td>\n",
       "      <td>1.2.3.0/24</td>\n",
       "      <td>1.2.3.0/24</td>\n",
       "      <td>[25408, 206536]</td>\n",
       "      <td>Relationships.CUSTOMERS</td>\n",
       "      <td>False</td>\n",
       "      <td>[20485, 32787, 7195, 8220, 4637, 7713, 29226, ...</td>\n",
       "    </tr>\n",
       "    <tr>\n",
       "      <th>4</th>\n",
       "      <td>0</td>\n",
       "      <td>0.01</td>\n",
       "      <td>0</td>\n",
       "      <td>25408</td>\n",
       "      <td>BGP Simple</td>\n",
       "      <td>Outcomes.ATTACKER_SUCCESS</td>\n",
       "      <td>1.2.3.0/24</td>\n",
       "      <td>7.7.7.0/24</td>\n",
       "      <td>[25408, 1299, 13335]</td>\n",
       "      <td>Relationships.PROVIDERS</td>\n",
       "      <td>False</td>\n",
       "      <td>[20485, 32787, 7195, 8220, 4637, 7713, 29226, ...</td>\n",
       "    </tr>\n",
       "  </tbody>\n",
       "</table>\n",
       "</div>"
      ],
      "text/plain": [
       "   trial  ...                                         avoid_list\n",
       "0      0  ...  [20485, 32787, 7195, 8220, 4637, 7713, 29226, ...\n",
       "1      0  ...  [20485, 32787, 7195, 8220, 4637, 7713, 29226, ...\n",
       "2      0  ...  [20485, 32787, 7195, 8220, 4637, 7713, 29226, ...\n",
       "3      0  ...  [20485, 32787, 7195, 8220, 4637, 7713, 29226, ...\n",
       "4      0  ...  [20485, 32787, 7195, 8220, 4637, 7713, 29226, ...\n",
       "\n",
       "[5 rows x 12 columns]"
      ]
     },
     "execution_count": 3,
     "metadata": {},
     "output_type": "execute_result"
    }
   ],
   "source": [
    "data.head()"
   ]
  },
  {
   "cell_type": "code",
   "execution_count": 4,
   "id": "43f2d8b4",
   "metadata": {},
   "outputs": [
    {
     "data": {
      "text/plain": [
       "4434316"
      ]
     },
     "execution_count": 4,
     "metadata": {},
     "output_type": "execute_result"
    }
   ],
   "source": [
    "len(data)"
   ]
  },
  {
   "cell_type": "code",
   "execution_count": 5,
   "id": "d766c40f",
   "metadata": {},
   "outputs": [
    {
     "data": {
      "text/html": [
       "<div>\n",
       "<style scoped>\n",
       "    .dataframe tbody tr th:only-of-type {\n",
       "        vertical-align: middle;\n",
       "    }\n",
       "\n",
       "    .dataframe tbody tr th {\n",
       "        vertical-align: top;\n",
       "    }\n",
       "\n",
       "    .dataframe thead th {\n",
       "        text-align: right;\n",
       "    }\n",
       "</style>\n",
       "<table border=\"1\" class=\"dataframe\">\n",
       "  <thead>\n",
       "    <tr style=\"text-align: right;\">\n",
       "      <th></th>\n",
       "      <th>trial</th>\n",
       "      <th>percentage</th>\n",
       "      <th>propagation_round</th>\n",
       "      <th>asn</th>\n",
       "      <th>adoption_setting</th>\n",
       "      <th>outcome</th>\n",
       "      <th>prefix_for_outcome</th>\n",
       "      <th>local_rib_prefix</th>\n",
       "      <th>as_path</th>\n",
       "      <th>relationship</th>\n",
       "      <th>blackhole</th>\n",
       "      <th>avoid_list</th>\n",
       "    </tr>\n",
       "  </thead>\n",
       "  <tbody>\n",
       "    <tr>\n",
       "      <th>2237648</th>\n",
       "      <td>0</td>\n",
       "      <td>0.1</td>\n",
       "      <td>0</td>\n",
       "      <td>32934</td>\n",
       "      <td>ROV V4 Lite K5</td>\n",
       "      <td>Outcomes.ATTACKER_SUCCESS</td>\n",
       "      <td>1.2.3.0/24</td>\n",
       "      <td>7.7.7.0/24</td>\n",
       "      <td>[32934, 1221, 13335]</td>\n",
       "      <td>Relationships.PEERS</td>\n",
       "      <td>False</td>\n",
       "      <td>[57344, 20485, 36873, 16397, 12301, 32787, 123...</td>\n",
       "    </tr>\n",
       "    <tr>\n",
       "      <th>2237649</th>\n",
       "      <td>0</td>\n",
       "      <td>0.1</td>\n",
       "      <td>0</td>\n",
       "      <td>32934</td>\n",
       "      <td>ROV V4 Lite K5</td>\n",
       "      <td>Outcomes.ATTACKER_SUCCESS</td>\n",
       "      <td>1.2.3.0/24</td>\n",
       "      <td>1.2.0.0/16</td>\n",
       "      <td>[32934, 4657, 4761, 23954]</td>\n",
       "      <td>Relationships.PEERS</td>\n",
       "      <td>False</td>\n",
       "      <td>[57344, 20485, 36873, 16397, 12301, 32787, 123...</td>\n",
       "    </tr>\n",
       "    <tr>\n",
       "      <th>2237650</th>\n",
       "      <td>0</td>\n",
       "      <td>0.1</td>\n",
       "      <td>0</td>\n",
       "      <td>32934</td>\n",
       "      <td>ROV V4 Lite K5</td>\n",
       "      <td>Outcomes.ATTACKER_SUCCESS</td>\n",
       "      <td>1.2.3.0/24</td>\n",
       "      <td>1.2.3.0/24</td>\n",
       "      <td>[32934, 4657, 45474, 7195, 13786, 264517, 2635...</td>\n",
       "      <td>Relationships.PEERS</td>\n",
       "      <td>True</td>\n",
       "      <td>[57344, 20485, 36873, 16397, 12301, 32787, 123...</td>\n",
       "    </tr>\n",
       "    <tr>\n",
       "      <th>2237689</th>\n",
       "      <td>0</td>\n",
       "      <td>0.1</td>\n",
       "      <td>0</td>\n",
       "      <td>58879</td>\n",
       "      <td>ROV V4 Lite K5</td>\n",
       "      <td>Outcomes.ATTACKER_SUCCESS</td>\n",
       "      <td>1.2.3.0/24</td>\n",
       "      <td>7.7.7.0/24</td>\n",
       "      <td>[58879, 3257, 13335]</td>\n",
       "      <td>Relationships.PEERS</td>\n",
       "      <td>False</td>\n",
       "      <td>[57344, 20485, 36873, 16397, 12301, 32787, 123...</td>\n",
       "    </tr>\n",
       "    <tr>\n",
       "      <th>2237690</th>\n",
       "      <td>0</td>\n",
       "      <td>0.1</td>\n",
       "      <td>0</td>\n",
       "      <td>58879</td>\n",
       "      <td>ROV V4 Lite K5</td>\n",
       "      <td>Outcomes.ATTACKER_SUCCESS</td>\n",
       "      <td>1.2.3.0/24</td>\n",
       "      <td>1.2.0.0/16</td>\n",
       "      <td>[58879, 4826, 17451, 23954]</td>\n",
       "      <td>Relationships.PEERS</td>\n",
       "      <td>False</td>\n",
       "      <td>[57344, 20485, 36873, 16397, 12301, 32787, 123...</td>\n",
       "    </tr>\n",
       "  </tbody>\n",
       "</table>\n",
       "</div>"
      ],
      "text/plain": [
       "         trial  ...                                         avoid_list\n",
       "2237648      0  ...  [57344, 20485, 36873, 16397, 12301, 32787, 123...\n",
       "2237649      0  ...  [57344, 20485, 36873, 16397, 12301, 32787, 123...\n",
       "2237650      0  ...  [57344, 20485, 36873, 16397, 12301, 32787, 123...\n",
       "2237689      0  ...  [57344, 20485, 36873, 16397, 12301, 32787, 123...\n",
       "2237690      0  ...  [57344, 20485, 36873, 16397, 12301, 32787, 123...\n",
       "\n",
       "[5 rows x 12 columns]"
      ]
     },
     "execution_count": 5,
     "metadata": {},
     "output_type": "execute_result"
    }
   ],
   "source": [
    "################################\n",
    "# Analyze\n",
    "################################\n",
    "#%%\n",
    "\n",
    "trial = 0\n",
    "percentage = 0.1\n",
    "\n",
    "# Select all adopting ASes that are hijacked\n",
    "adopting_ases_trials = data.loc[data['adoption_setting'] == 'ROV V4 Lite K5', :]\n",
    "hijacked_adopting_ases_trials = adopting_ases_trials.loc[adopting_ases_trials['outcome'] == 'Outcomes.ATTACKER_SUCCESS', :]\n",
    "sinlge_trial_data = hijacked_adopting_ases_trials.loc[(hijacked_adopting_ases_trials['trial'] == trial) & (hijacked_adopting_ases_trials['percentage'] == percentage), :]\n",
    "\n",
    "sinlge_trial_data.head()"
   ]
  },
  {
   "cell_type": "code",
   "execution_count": 7,
   "id": "bef9752d",
   "metadata": {},
   "outputs": [
    {
     "data": {
      "text/plain": [
       "22289"
      ]
     },
     "execution_count": 7,
     "metadata": {},
     "output_type": "execute_result"
    }
   ],
   "source": [
    "len(sinlge_trial_data)"
   ]
  },
  {
   "cell_type": "markdown",
   "id": "b2685d39",
   "metadata": {},
   "source": [
    "Now lets check how many of these adopting ASes are hidden hijacks\n",
    "A hidden hijack is classified as:\n",
    "* If the attacker ann is not in LocalRIB\n",
    "* Has a path to the origin"
   ]
  },
  {
   "cell_type": "code",
   "execution_count": 23,
   "id": "b8aed345",
   "metadata": {},
   "outputs": [
    {
     "data": {
      "text/plain": [
       "0"
      ]
     },
     "execution_count": 23,
     "metadata": {},
     "output_type": "execute_result"
    }
   ],
   "source": [
    "# Quickly lets see if an adopter has the attacker ann in LocalRIB without a blackhole ann\n",
    "has_attacker_ann_in_local_rib = sinlge_trial_data.loc[(sinlge_trial_data['prefix_for_outcome'] == sinlge_trial_data['local_rib_prefix']) , :]\n",
    "and_does_not_have_blackhole = has_attacker_ann_in_local_rib.loc[has_attacker_ann_in_local_rib['blackhole'] == False, :]\n",
    "len(and_does_not_have_blackhole)"
   ]
  },
  {
   "cell_type": "markdown",
   "id": "1ba4429d",
   "metadata": {},
   "source": [
    "That's reassuring! It should be 0. this means that all the adopters that have been hijacked have a blackhole installed for the attacker prefix; which indicates that they are DISCONNECTED, but then chose to be connected via the relay.\n",
    "\n",
    "Now lets get a count on the adopters that have attacker ann in their RIB "
   ]
  },
  {
   "cell_type": "code",
   "execution_count": 8,
   "id": "b0220cce",
   "metadata": {},
   "outputs": [
    {
     "data": {
      "text/plain": [
       "7257"
      ]
     },
     "execution_count": 8,
     "metadata": {},
     "output_type": "execute_result"
    }
   ],
   "source": [
    "# Check if attacking announcement in RIB\n",
    "has_attacker_ann_in_local_rib = sinlge_trial_data.loc[sinlge_trial_data['prefix_for_outcome'] == sinlge_trial_data['local_rib_prefix'], 'asn'].unique()\n",
    "len(has_attacker_ann_in_local_rib)"
   ]
  },
  {
   "cell_type": "code",
   "execution_count": 9,
   "id": "1bcc76fe",
   "metadata": {},
   "outputs": [
    {
     "data": {
      "text/plain": [
       "7516"
      ]
     },
     "execution_count": 9,
     "metadata": {},
     "output_type": "execute_result"
    }
   ],
   "source": [
    "# Check has path to origin\n",
    "has_path_to_origin = sinlge_trial_data.loc[sinlge_trial_data['local_rib_prefix'] == '1.2.0.0/16', 'asn'].unique()\n",
    "len(has_path_to_origin)"
   ]
  },
  {
   "cell_type": "code",
   "execution_count": 10,
   "id": "dee66f20",
   "metadata": {},
   "outputs": [
    {
     "name": "stdout",
     "output_type": "stream",
     "text": [
      "7516\n"
     ]
    }
   ],
   "source": [
    "# Get all ASNs\n",
    "all_asns = sinlge_trial_data['asn'].unique()\n",
    "print(len(all_asns))"
   ]
  },
  {
   "cell_type": "code",
   "execution_count": 11,
   "id": "718bcc62",
   "metadata": {},
   "outputs": [
    {
     "data": {
      "text/plain": [
       "259"
      ]
     },
     "execution_count": 11,
     "metadata": {},
     "output_type": "execute_result"
    }
   ],
   "source": [
    "# ASes that don't have attacker in LocalRIB\n",
    "ases_that_do_not_have_attacker_ann = set(all_asns) - set(has_attacker_ann_in_local_rib)\n",
    "len(ases_that_do_not_have_attacker_ann)"
   ]
  },
  {
   "cell_type": "code",
   "execution_count": 12,
   "id": "3380875c",
   "metadata": {},
   "outputs": [
    {
     "data": {
      "text/plain": [
       "259"
      ]
     },
     "execution_count": 12,
     "metadata": {},
     "output_type": "execute_result"
    }
   ],
   "source": [
    "# and have a path to the origin\n",
    "and_have_path_to_origin = ases_that_do_not_have_attacker_ann.intersection(set(has_path_to_origin))\n",
    "len(and_have_path_to_origin)"
   ]
  },
  {
   "cell_type": "code",
   "execution_count": 13,
   "id": "5fcf9aa8",
   "metadata": {},
   "outputs": [
    {
     "data": {
      "text/plain": [
       "0.0344598190526876"
      ]
     },
     "execution_count": 13,
     "metadata": {},
     "output_type": "execute_result"
    }
   ],
   "source": [
    "len(and_have_path_to_origin)/len(all_asns)\n",
    "# sinlge_trial_data.query('asn in @and_have_path_to_origin').head()"
   ]
  },
  {
   "cell_type": "markdown",
   "id": "efb042ae",
   "metadata": {},
   "source": [
    "## Why is there such a huge variance in results?"
   ]
  },
  {
   "cell_type": "code",
   "execution_count": 6,
   "id": "a2b4b079",
   "metadata": {},
   "outputs": [
    {
     "data": {
      "text/plain": [
       "0.9999102776905477"
      ]
     },
     "execution_count": 6,
     "metadata": {},
     "output_type": "execute_result"
    }
   ],
   "source": [
    "# What is percentage of ASes that were hijacked?\n",
    "all_sinlge_trial_data = adopting_ases_trials.loc[(adopting_ases_trials['trial'] == trial) & (adopting_ases_trials['percentage'] == percentage), :]\n",
    "len(sinlge_trial_data)/len(all_sinlge_trial_data)"
   ]
  },
  {
   "cell_type": "markdown",
   "id": "816eb7a6",
   "metadata": {},
   "source": [
    "The observation above is actually the most insightful. Looking at different trials we can see that most results are either almost 0 or almost 100 percent. There's really nothing in between. The goal now is to try to understand why this is the case."
   ]
  },
  {
   "cell_type": "markdown",
   "id": "99666599",
   "metadata": {},
   "source": [
    "Lets see how many hijacks are caused by the relay"
   ]
  },
  {
   "cell_type": "code",
   "execution_count": 17,
   "id": "511b00c9",
   "metadata": {},
   "outputs": [
    {
     "data": {
      "text/html": [
       "<div>\n",
       "<style scoped>\n",
       "    .dataframe tbody tr th:only-of-type {\n",
       "        vertical-align: middle;\n",
       "    }\n",
       "\n",
       "    .dataframe tbody tr th {\n",
       "        vertical-align: top;\n",
       "    }\n",
       "\n",
       "    .dataframe thead th {\n",
       "        text-align: right;\n",
       "    }\n",
       "</style>\n",
       "<table border=\"1\" class=\"dataframe\">\n",
       "  <thead>\n",
       "    <tr style=\"text-align: right;\">\n",
       "      <th></th>\n",
       "      <th>trial</th>\n",
       "      <th>percentage</th>\n",
       "      <th>propagation_round</th>\n",
       "      <th>asn</th>\n",
       "      <th>adoption_setting</th>\n",
       "      <th>outcome</th>\n",
       "      <th>prefix_for_outcome</th>\n",
       "      <th>local_rib_prefix</th>\n",
       "      <th>as_path</th>\n",
       "      <th>relationship</th>\n",
       "      <th>blackhole</th>\n",
       "      <th>avoid_list</th>\n",
       "    </tr>\n",
       "  </thead>\n",
       "  <tbody>\n",
       "    <tr>\n",
       "      <th>2237648</th>\n",
       "      <td>0</td>\n",
       "      <td>0.1</td>\n",
       "      <td>0</td>\n",
       "      <td>32934</td>\n",
       "      <td>ROV V4 Lite K5</td>\n",
       "      <td>Outcomes.ATTACKER_SUCCESS</td>\n",
       "      <td>1.2.3.0/24</td>\n",
       "      <td>7.7.7.0/24</td>\n",
       "      <td>[32934, 1221, 13335]</td>\n",
       "      <td>Relationships.PEERS</td>\n",
       "      <td>False</td>\n",
       "      <td>[57344, 20485, 36873, 16397, 12301, 32787, 123...</td>\n",
       "    </tr>\n",
       "    <tr>\n",
       "      <th>2237689</th>\n",
       "      <td>0</td>\n",
       "      <td>0.1</td>\n",
       "      <td>0</td>\n",
       "      <td>58879</td>\n",
       "      <td>ROV V4 Lite K5</td>\n",
       "      <td>Outcomes.ATTACKER_SUCCESS</td>\n",
       "      <td>1.2.3.0/24</td>\n",
       "      <td>7.7.7.0/24</td>\n",
       "      <td>[58879, 3257, 13335]</td>\n",
       "      <td>Relationships.PEERS</td>\n",
       "      <td>False</td>\n",
       "      <td>[57344, 20485, 36873, 16397, 12301, 32787, 123...</td>\n",
       "    </tr>\n",
       "    <tr>\n",
       "      <th>2237704</th>\n",
       "      <td>0</td>\n",
       "      <td>0.1</td>\n",
       "      <td>0</td>\n",
       "      <td>13335</td>\n",
       "      <td>ROV V4 Lite K5</td>\n",
       "      <td>Outcomes.ATTACKER_SUCCESS</td>\n",
       "      <td>1.2.3.0/24</td>\n",
       "      <td>7.7.7.0/24</td>\n",
       "      <td>[13335]</td>\n",
       "      <td>Relationships.ORIGIN</td>\n",
       "      <td>False</td>\n",
       "      <td>[57344, 20485, 36873, 16397, 12301, 32787, 123...</td>\n",
       "    </tr>\n",
       "    <tr>\n",
       "      <th>2237706</th>\n",
       "      <td>0</td>\n",
       "      <td>0.1</td>\n",
       "      <td>0</td>\n",
       "      <td>28186</td>\n",
       "      <td>ROV V4 Lite K5</td>\n",
       "      <td>Outcomes.ATTACKER_SUCCESS</td>\n",
       "      <td>1.2.3.0/24</td>\n",
       "      <td>7.7.7.0/24</td>\n",
       "      <td>[28186, 13335]</td>\n",
       "      <td>Relationships.PEERS</td>\n",
       "      <td>False</td>\n",
       "      <td>[57344, 20485, 36873, 16397, 12301, 32787, 123...</td>\n",
       "    </tr>\n",
       "    <tr>\n",
       "      <th>2237727</th>\n",
       "      <td>0</td>\n",
       "      <td>0.1</td>\n",
       "      <td>0</td>\n",
       "      <td>39764</td>\n",
       "      <td>ROV V4 Lite K5</td>\n",
       "      <td>Outcomes.ATTACKER_SUCCESS</td>\n",
       "      <td>1.2.3.0/24</td>\n",
       "      <td>7.7.7.0/24</td>\n",
       "      <td>[39764, 6939, 557, 13335]</td>\n",
       "      <td>Relationships.PEERS</td>\n",
       "      <td>False</td>\n",
       "      <td>[57344, 20485, 36873, 16397, 12301, 32787, 123...</td>\n",
       "    </tr>\n",
       "  </tbody>\n",
       "</table>\n",
       "</div>"
      ],
      "text/plain": [
       "         trial  ...                                         avoid_list\n",
       "2237648      0  ...  [57344, 20485, 36873, 16397, 12301, 32787, 123...\n",
       "2237689      0  ...  [57344, 20485, 36873, 16397, 12301, 32787, 123...\n",
       "2237704      0  ...  [57344, 20485, 36873, 16397, 12301, 32787, 123...\n",
       "2237706      0  ...  [57344, 20485, 36873, 16397, 12301, 32787, 123...\n",
       "2237727      0  ...  [57344, 20485, 36873, 16397, 12301, 32787, 123...\n",
       "\n",
       "[5 rows x 12 columns]"
      ]
     },
     "execution_count": 17,
     "metadata": {},
     "output_type": "execute_result"
    }
   ],
   "source": [
    "hijacked_via_relay = sinlge_trial_data.loc[(sinlge_trial_data['local_rib_prefix'] != sinlge_trial_data['prefix_for_outcome']) & (sinlge_trial_data['local_rib_prefix'] != '1.2.0.0/16'), :]\n",
    "hijacked_via_relay.head()"
   ]
  },
  {
   "cell_type": "code",
   "execution_count": 24,
   "id": "02a4c4c2",
   "metadata": {},
   "outputs": [
    {
     "data": {
      "text/plain": [
       "7516"
      ]
     },
     "execution_count": 24,
     "metadata": {},
     "output_type": "execute_result"
    }
   ],
   "source": [
    "len(hijacked_via_relay)"
   ]
  },
  {
   "cell_type": "markdown",
   "id": "53e5b044",
   "metadata": {},
   "source": [
    "I think this is an indication that all the disconnections were converted to ATTACKER_SUCCESS via the relay prefix. Let's check if the relay is an AS with a hidden hijack. The data being analyzed used `cloudflare` as the CDN; which has a single ASN `13335`"
   ]
  },
  {
   "cell_type": "code",
   "execution_count": 25,
   "id": "90dc60de",
   "metadata": {},
   "outputs": [
    {
     "data": {
      "text/plain": [
       "True"
      ]
     },
     "execution_count": 25,
     "metadata": {},
     "output_type": "execute_result"
    }
   ],
   "source": [
    "13335 in and_have_path_to_origin"
   ]
  },
  {
   "cell_type": "markdown",
   "id": "ffdc02ab",
   "metadata": {},
   "source": [
    "That's it ... the disconnections are being converted to hijacks via the CDN's hidden hijack"
   ]
  }
 ],
 "metadata": {
  "kernelspec": {
   "display_name": "Python 3 (Spyder)",
   "language": "python3",
   "name": "python3"
  },
  "language_info": {
   "codemirror_mode": {
    "name": "ipython",
    "version": 3
   },
   "file_extension": ".py",
   "mimetype": "text/x-python",
   "name": "python",
   "nbconvert_exporter": "python",
   "pygments_lexer": "ipython3",
   "version": "3.11.4"
  }
 },
 "nbformat": 4,
 "nbformat_minor": 5
}
