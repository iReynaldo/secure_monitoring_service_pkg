{
 "cells": [
  {
   "cell_type": "markdown",
   "id": "c190b48f",
   "metadata": {},
   "source": [
    "# Investigate why there's ~80% disconnections for Autoimmune Direct Attack\n",
    "\n",
    "Load data and imports"
   ]
  },
  {
   "cell_type": "code",
   "execution_count": 2,
   "id": "588e885d",
   "metadata": {},
   "outputs": [],
   "source": [
    "#!/usr/bin/env python3\n",
    "# -*- coding: utf-8 -*-\n",
    "\"\"\"\n",
    "Created on Fri Jun 16 17:59:10 2023\n",
    "\n",
    "@author: uconn\n",
    "\"\"\"\n",
    "\n",
    "\n",
    "################################\n",
    "# Imports\n",
    "################################\n",
    "\n",
    "import numpy as np\n",
    "import pandas as pd\n",
    "import matplotlib.pyplot as plt\n",
    "\n",
    "\n",
    "################################\n",
    "# Load Data\n",
    "################################\n",
    "#%%\n",
    "data_file_path = '../../data/as_metadata/metadata.csv'\n",
    "data = pd.read_csv(data_file_path, delimiter='\\t')\n"
   ]
  },
  {
   "cell_type": "markdown",
   "id": "930eca63",
   "metadata": {},
   "source": [
    "Let's take a look at the size of the avoid lists"
   ]
  },
  {
   "cell_type": "code",
   "execution_count": 4,
   "id": "3ccf76a3",
   "metadata": {},
   "outputs": [
    {
     "data": {
      "text/plain": [
       "array(['[133275]', '[8359]', '[132770]', '[48276]', '[4230]', '[62214]',\n",
       "       '[33651]', '[19429]', '[6768]', '[209]', '[12912]', '[20804]',\n",
       "       '[53181]', '[262764]', '[9002]', '[9583]', '[9121]', '[48858]',\n",
       "       '[9498]', '[24400]', '[9050]', '[16246]', '[19257]', '[174]',\n",
       "       '[50473]', '[62]', '[51346]', '[30844]', '[272006]', '[61135]',\n",
       "       '[13335]', '[3549]', '[3356]', '[42020]', '[24348]', '[8447]',\n",
       "       '[3255]', '[306]', '[41364]', '[1820]', '[33185]', '[26827]',\n",
       "       '[4261]', '[26801]', '[328748]', '[16814]', '[9299]', '[17762]',\n",
       "       '[13576]', '[5384]', '[20473]', '[2914]', '[9830]', '[376]',\n",
       "       '[1239]', '[286]', '[1101]', '[3216]', '[37965]'], dtype=object)"
      ]
     },
     "execution_count": 4,
     "metadata": {},
     "output_type": "execute_result"
    }
   ],
   "source": [
    "# Analyze the size of the avoid list\n",
    "unique_avoid_lists = data.loc[:, 'avoid_list'].unique()\n",
    "unique_avoid_lists"
   ]
  },
  {
   "cell_type": "markdown",
   "id": "2b857c78",
   "metadata": {},
   "source": [
    "The avoid list of each one is just a single AS ... this is true for every pecentage value I checked ...\n",
    "\n",
    "> This must be true because the Direct AutoImmune attack targets a single provider of the origin. Therefore, the avoid list would have at most one ASN in it for this attack for the given attacking subprefix.\n",
    "\n",
    "Some ASes don't have the avoid list ASN in their path to the origin, most likely because the origin is a multihomed AS; which means the adopting ASes that have a successful connection to the origin are connected via the path of another provider\n",
    "of the multihomed origin.\n",
    "\n",
    "From here we need to check what fraction of edge ASes are multihomed\n",
    "> Fraction of edge ASes that are multihomed: 56.56%\n",
    "\n",
    "## Continue \n",
    "Convert the `as_path` and `avoid_list` to list types for easier manipulation later"
   ]
  },
  {
   "cell_type": "code",
   "execution_count": 6,
   "id": "976fd5fe",
   "metadata": {},
   "outputs": [],
   "source": [
    "################################\n",
    "# Preprocess\n",
    "################################\n",
    "#%%\n",
    "\n",
    "# Convert list data values (which are default interpreted as strings) to list data types\n",
    "data['as_path'] = data['as_path'].apply(eval)\n",
    "data['avoid_list'] = data['avoid_list'].apply(eval)"
   ]
  },
  {
   "cell_type": "code",
   "execution_count": 13,
   "id": "698d89d1",
   "metadata": {},
   "outputs": [
    {
     "name": "stdout",
     "output_type": "stream",
     "text": [
      "0.8465923826011346\n",
      "0.15334258628226285\n"
     ]
    }
   ],
   "source": [
    "################################\n",
    "# Analyze\n",
    "################################\n",
    "#%%\n",
    "\n",
    "trial = 1\n",
    "percentage = 0.1\n",
    "\n",
    "# Count the disconnected in a single trial (adopting)\n",
    "adopting_ases_trials = data.loc[data['adoption_setting'] == 'ROV V4 Lite K2', :]\n",
    "disconnected_adopting_ases_trials = adopting_ases_trials.loc[adopting_ases_trials['outcome'] == 'Outcomes.DISCONNECTED', :]\n",
    "successful_adopting_ases_trials = adopting_ases_trials.loc[adopting_ases_trials['outcome'] == 'Outcomes.VICTIM_SUCCESS', :]\n",
    "\n",
    "\n",
    "sinlge_trial_data = disconnected_adopting_ases_trials.loc[(disconnected_adopting_ases_trials['trial'] == trial) & (disconnected_adopting_ases_trials['percentage'] == percentage), :]\n",
    "successful_single_trial_data = successful_adopting_ases_trials.loc[(successful_adopting_ases_trials['trial'] == trial) & (successful_adopting_ases_trials['percentage'] == percentage), :]\n",
    "\n",
    "ten_percent_trials = adopting_ases_trials.loc[adopting_ases_trials['percentage'] == 0.1, :]\n",
    "\n",
    "# Check the fraction of disconnected / all_ases (should be close to 80% according to the phenomenon we're investigating)\n",
    "print(len(disconnected_adopting_ases_trials)/len(adopting_ases_trials))\n",
    "print(len(successful_adopting_ases_trials)/len(adopting_ases_trials))"
   ]
  },
  {
   "cell_type": "markdown",
   "id": "39515157",
   "metadata": {},
   "source": [
    "This is consistent with the results seen so far\n",
    "\n",
    "Lets check if all the disconnected is due to a blackhole?"
   ]
  },
  {
   "cell_type": "code",
   "execution_count": 14,
   "id": "21683d9c",
   "metadata": {},
   "outputs": [
    {
     "name": "stdout",
     "output_type": "stream",
     "text": [
      "1.0\n"
     ]
    }
   ],
   "source": [
    "#%%\n",
    "# Check the contents of their RIBs\n",
    "## Do they have a blackhole?\n",
    "## Do they have a path to the origin without a blackhole?\n",
    "single_trial_prefix_outcome = sinlge_trial_data.loc[sinlge_trial_data['prefix_for_outcome'] == sinlge_trial_data['local_rib_prefix'], :]\n",
    "disconnected_ases_with_blackhole = sum(single_trial_prefix_outcome['blackhole'] == True)\n",
    "# Fraction of ASes that are disconnected due to blackhole -- It should be all of them -- it is ...\n",
    "print(disconnected_ases_with_blackhole/len(single_trial_prefix_outcome['asn'].unique()))"
   ]
  },
  {
   "cell_type": "markdown",
   "id": "38ae05d6",
   "metadata": {},
   "source": [
    "All disconnections are indeed due to blackholes, as expected."
   ]
  },
  {
   "cell_type": "code",
   "execution_count": 15,
   "id": "d103588f",
   "metadata": {},
   "outputs": [
    {
     "name": "stdout",
     "output_type": "stream",
     "text": [
      "0\n"
     ]
    }
   ],
   "source": [
    "# Lets check the RIB of those who are successfully connected. How is it possible?\n",
    "# Did they not install a blackhole? For what reason?\n",
    "successful_single_trial_data_prefix_outcome = successful_single_trial_data.loc[successful_single_trial_data['prefix_for_outcome'] == successful_single_trial_data['local_rib_prefix'], :]\n",
    "print(len(successful_single_trial_data_prefix_outcome))"
   ]
  },
  {
   "cell_type": "markdown",
   "id": "d48a5f37",
   "metadata": {},
   "source": [
    "It seems that those who are successfully connected do not have a path to the prefix choosen for the outcome.\n",
    "That's of course true, because this is a direct autoimmune attack (i.e. there is no actual announcement)"
   ]
  },
  {
   "cell_type": "code",
   "execution_count": 16,
   "id": "001b297e",
   "metadata": {},
   "outputs": [
    {
     "name": "stdout",
     "output_type": "stream",
     "text": [
      "False\n"
     ]
    }
   ],
   "source": [
    "# Check if any of the successfully connected have a member of the avoid list in there path\n",
    "avoid_list_item_in_success_path = successful_single_trial_data.apply(lambda row: any(asn in row.as_path for asn in row.avoid_list), axis=1)\n",
    "print(any(avoid_list_item_in_success_path))"
   ]
  },
  {
   "cell_type": "code",
   "execution_count": 17,
   "id": "324855fc",
   "metadata": {},
   "outputs": [
    {
     "data": {
      "text/html": [
       "<div>\n",
       "<style scoped>\n",
       "    .dataframe tbody tr th:only-of-type {\n",
       "        vertical-align: middle;\n",
       "    }\n",
       "\n",
       "    .dataframe tbody tr th {\n",
       "        vertical-align: top;\n",
       "    }\n",
       "\n",
       "    .dataframe thead th {\n",
       "        text-align: right;\n",
       "    }\n",
       "</style>\n",
       "<table border=\"1\" class=\"dataframe\">\n",
       "  <thead>\n",
       "    <tr style=\"text-align: right;\">\n",
       "      <th></th>\n",
       "      <th>trial</th>\n",
       "      <th>percentage</th>\n",
       "      <th>propagation_round</th>\n",
       "      <th>asn</th>\n",
       "      <th>adoption_setting</th>\n",
       "      <th>outcome</th>\n",
       "      <th>prefix_for_outcome</th>\n",
       "      <th>local_rib_prefix</th>\n",
       "      <th>as_path</th>\n",
       "      <th>relationship</th>\n",
       "      <th>blackhole</th>\n",
       "      <th>avoid_list</th>\n",
       "    </tr>\n",
       "  </thead>\n",
       "  <tbody>\n",
       "    <tr>\n",
       "      <th>82464</th>\n",
       "      <td>1</td>\n",
       "      <td>0.1</td>\n",
       "      <td>0</td>\n",
       "      <td>48528</td>\n",
       "      <td>ROV V4 Lite K2</td>\n",
       "      <td>Outcomes.VICTIM_SUCCESS</td>\n",
       "      <td>1.2.2.0/24</td>\n",
       "      <td>1.2.0.0/16</td>\n",
       "      <td>[48528]</td>\n",
       "      <td>Relationships.ORIGIN</td>\n",
       "      <td>False</td>\n",
       "      <td>[8359]</td>\n",
       "    </tr>\n",
       "    <tr>\n",
       "      <th>82467</th>\n",
       "      <td>1</td>\n",
       "      <td>0.1</td>\n",
       "      <td>0</td>\n",
       "      <td>209122</td>\n",
       "      <td>ROV V4 Lite K2</td>\n",
       "      <td>Outcomes.VICTIM_SUCCESS</td>\n",
       "      <td>1.2.2.0/24</td>\n",
       "      <td>1.2.0.0/16</td>\n",
       "      <td>[209122, 3356, 3216, 48528]</td>\n",
       "      <td>Relationships.PROVIDERS</td>\n",
       "      <td>False</td>\n",
       "      <td>[8359]</td>\n",
       "    </tr>\n",
       "    <tr>\n",
       "      <th>82468</th>\n",
       "      <td>1</td>\n",
       "      <td>0.1</td>\n",
       "      <td>0</td>\n",
       "      <td>209122</td>\n",
       "      <td>ROV V4 Lite K2</td>\n",
       "      <td>Outcomes.VICTIM_SUCCESS</td>\n",
       "      <td>1.2.2.0/24</td>\n",
       "      <td>1.2.1.0/24</td>\n",
       "      <td>[209122, 3356, 3216, 48528]</td>\n",
       "      <td>Relationships.PROVIDERS</td>\n",
       "      <td>True</td>\n",
       "      <td>[8359]</td>\n",
       "    </tr>\n",
       "    <tr>\n",
       "      <th>82515</th>\n",
       "      <td>1</td>\n",
       "      <td>0.1</td>\n",
       "      <td>0</td>\n",
       "      <td>33491</td>\n",
       "      <td>ROV V4 Lite K2</td>\n",
       "      <td>Outcomes.VICTIM_SUCCESS</td>\n",
       "      <td>1.2.2.0/24</td>\n",
       "      <td>1.2.0.0/16</td>\n",
       "      <td>[33491, 3356, 3216, 48528]</td>\n",
       "      <td>Relationships.PROVIDERS</td>\n",
       "      <td>False</td>\n",
       "      <td>[8359]</td>\n",
       "    </tr>\n",
       "    <tr>\n",
       "      <th>82516</th>\n",
       "      <td>1</td>\n",
       "      <td>0.1</td>\n",
       "      <td>0</td>\n",
       "      <td>33491</td>\n",
       "      <td>ROV V4 Lite K2</td>\n",
       "      <td>Outcomes.VICTIM_SUCCESS</td>\n",
       "      <td>1.2.2.0/24</td>\n",
       "      <td>1.2.1.0/24</td>\n",
       "      <td>[33491, 3356, 3216, 48528]</td>\n",
       "      <td>Relationships.PROVIDERS</td>\n",
       "      <td>True</td>\n",
       "      <td>[8359]</td>\n",
       "    </tr>\n",
       "  </tbody>\n",
       "</table>\n",
       "</div>"
      ],
      "text/plain": [
       "       trial  percentage  ...  blackhole  avoid_list\n",
       "82464      1         0.1  ...      False      [8359]\n",
       "82467      1         0.1  ...      False      [8359]\n",
       "82468      1         0.1  ...       True      [8359]\n",
       "82515      1         0.1  ...      False      [8359]\n",
       "82516      1         0.1  ...       True      [8359]\n",
       "\n",
       "[5 rows x 12 columns]"
      ]
     },
     "execution_count": 17,
     "metadata": {},
     "output_type": "execute_result"
    }
   ],
   "source": [
    "successful_single_trial_data.head()"
   ]
  },
  {
   "cell_type": "markdown",
   "id": "bcf23dec",
   "metadata": {},
   "source": [
    "We can see that all the successfully connected do not have a path with the avoid list ASN in their path to the origin."
   ]
  }
 ],
 "metadata": {
  "kernelspec": {
   "display_name": "Python 3 (Spyder)",
   "language": "python3",
   "name": "python3"
  },
  "language_info": {
   "codemirror_mode": {
    "name": "ipython",
    "version": 3
   },
   "file_extension": ".py",
   "mimetype": "text/x-python",
   "name": "python",
   "nbconvert_exporter": "python",
   "pygments_lexer": "ipython3",
   "version": "3.11.3"
  }
 },
 "nbformat": 4,
 "nbformat_minor": 5
}
